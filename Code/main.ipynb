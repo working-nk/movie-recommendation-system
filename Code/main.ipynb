{
 "cells": [
  {
   "cell_type": "code",
   "execution_count": 1,
   "metadata": {},
   "outputs": [],
   "source": [
    "import string\n",
    "import numpy as np\n",
    "import pandas as pd\n",
    "from sklearn.feature_extraction.text import CountVectorizer\n",
    "from sklearn.metrics.pairwise import cosine_similarity"
   ]
  },
  {
   "cell_type": "markdown",
   "metadata": {},
   "source": [
    "## Load Data "
   ]
  },
  {
   "cell_type": "code",
   "execution_count": 2,
   "metadata": {},
   "outputs": [],
   "source": [
    "df = pd.read_csv('Dataset/movie_dataset.csv')\n",
    "# df.head()"
   ]
  },
  {
   "cell_type": "code",
   "execution_count": 3,
   "metadata": {},
   "outputs": [
    {
     "data": {
      "text/plain": [
       "Index(['index', 'budget', 'genres', 'homepage', 'id', 'keywords',\n",
       "       'original_language', 'original_title', 'overview', 'popularity',\n",
       "       'production_companies', 'production_countries', 'release_date',\n",
       "       'revenue', 'runtime', 'spoken_languages', 'status', 'tagline', 'title',\n",
       "       'vote_average', 'vote_count', 'cast', 'crew', 'director'],\n",
       "      dtype='object')"
      ]
     },
     "execution_count": 3,
     "metadata": {},
     "output_type": "execute_result"
    }
   ],
   "source": [
    "df.columns"
   ]
  },
  {
   "cell_type": "markdown",
   "metadata": {},
   "source": [
    "## Prepare Data "
   ]
  },
  {
   "cell_type": "code",
   "execution_count": 4,
   "metadata": {},
   "outputs": [],
   "source": [
    "features = ['genres', 'keywords', 'cast', 'director']\n",
    "\n",
    "data = pd.DataFrame(df['title'])\n",
    "for f in features:\n",
    "    temp = pd.DataFrame(df[f])\n",
    "    data = pd.concat([data,temp],axis=1)"
   ]
  },
  {
   "cell_type": "code",
   "execution_count": 5,
   "metadata": {},
   "outputs": [
    {
     "data": {
      "text/html": [
       "<div>\n",
       "<style scoped>\n",
       "    .dataframe tbody tr th:only-of-type {\n",
       "        vertical-align: middle;\n",
       "    }\n",
       "\n",
       "    .dataframe tbody tr th {\n",
       "        vertical-align: top;\n",
       "    }\n",
       "\n",
       "    .dataframe thead th {\n",
       "        text-align: right;\n",
       "    }\n",
       "</style>\n",
       "<table border=\"1\" class=\"dataframe\">\n",
       "  <thead>\n",
       "    <tr style=\"text-align: right;\">\n",
       "      <th></th>\n",
       "      <th>title</th>\n",
       "      <th>genres</th>\n",
       "      <th>keywords</th>\n",
       "      <th>cast</th>\n",
       "      <th>director</th>\n",
       "    </tr>\n",
       "  </thead>\n",
       "  <tbody>\n",
       "    <tr>\n",
       "      <th>0</th>\n",
       "      <td>Avatar</td>\n",
       "      <td>Action Adventure Fantasy Science Fiction</td>\n",
       "      <td>culture clash future space war space colony so...</td>\n",
       "      <td>Sam Worthington Zoe Saldana Sigourney Weaver S...</td>\n",
       "      <td>James Cameron</td>\n",
       "    </tr>\n",
       "    <tr>\n",
       "      <th>1</th>\n",
       "      <td>Pirates of the Caribbean: At World's End</td>\n",
       "      <td>Adventure Fantasy Action</td>\n",
       "      <td>ocean drug abuse exotic island east india trad...</td>\n",
       "      <td>Johnny Depp Orlando Bloom Keira Knightley Stel...</td>\n",
       "      <td>Gore Verbinski</td>\n",
       "    </tr>\n",
       "    <tr>\n",
       "      <th>2</th>\n",
       "      <td>Spectre</td>\n",
       "      <td>Action Adventure Crime</td>\n",
       "      <td>spy based on novel secret agent sequel mi6</td>\n",
       "      <td>Daniel Craig Christoph Waltz L\\u00e9a Seydoux ...</td>\n",
       "      <td>Sam Mendes</td>\n",
       "    </tr>\n",
       "    <tr>\n",
       "      <th>3</th>\n",
       "      <td>The Dark Knight Rises</td>\n",
       "      <td>Action Crime Drama Thriller</td>\n",
       "      <td>dc comics crime fighter terrorist secret ident...</td>\n",
       "      <td>Christian Bale Michael Caine Gary Oldman Anne ...</td>\n",
       "      <td>Christopher Nolan</td>\n",
       "    </tr>\n",
       "    <tr>\n",
       "      <th>4</th>\n",
       "      <td>John Carter</td>\n",
       "      <td>Action Adventure Science Fiction</td>\n",
       "      <td>based on novel mars medallion space travel pri...</td>\n",
       "      <td>Taylor Kitsch Lynn Collins Samantha Morton Wil...</td>\n",
       "      <td>Andrew Stanton</td>\n",
       "    </tr>\n",
       "  </tbody>\n",
       "</table>\n",
       "</div>"
      ],
      "text/plain": [
       "                                      title  \\\n",
       "0                                    Avatar   \n",
       "1  Pirates of the Caribbean: At World's End   \n",
       "2                                   Spectre   \n",
       "3                     The Dark Knight Rises   \n",
       "4                               John Carter   \n",
       "\n",
       "                                     genres  \\\n",
       "0  Action Adventure Fantasy Science Fiction   \n",
       "1                  Adventure Fantasy Action   \n",
       "2                    Action Adventure Crime   \n",
       "3               Action Crime Drama Thriller   \n",
       "4          Action Adventure Science Fiction   \n",
       "\n",
       "                                            keywords  \\\n",
       "0  culture clash future space war space colony so...   \n",
       "1  ocean drug abuse exotic island east india trad...   \n",
       "2         spy based on novel secret agent sequel mi6   \n",
       "3  dc comics crime fighter terrorist secret ident...   \n",
       "4  based on novel mars medallion space travel pri...   \n",
       "\n",
       "                                                cast           director  \n",
       "0  Sam Worthington Zoe Saldana Sigourney Weaver S...      James Cameron  \n",
       "1  Johnny Depp Orlando Bloom Keira Knightley Stel...     Gore Verbinski  \n",
       "2  Daniel Craig Christoph Waltz L\\u00e9a Seydoux ...         Sam Mendes  \n",
       "3  Christian Bale Michael Caine Gary Oldman Anne ...  Christopher Nolan  \n",
       "4  Taylor Kitsch Lynn Collins Samantha Morton Wil...     Andrew Stanton  "
      ]
     },
     "execution_count": 5,
     "metadata": {},
     "output_type": "execute_result"
    }
   ],
   "source": [
    "data.head()"
   ]
  },
  {
   "cell_type": "code",
   "execution_count": 6,
   "metadata": {},
   "outputs": [
    {
     "data": {
      "text/plain": [
       "8.869456589631481"
      ]
     },
     "execution_count": 6,
     "metadata": {},
     "output_type": "execute_result"
    }
   ],
   "source": [
    "len(data[data.isna().any(axis=1)]) / len(data) * 100"
   ]
  },
  {
   "cell_type": "code",
   "execution_count": 7,
   "metadata": {},
   "outputs": [],
   "source": [
    "# so we cant get rid of nan, put empty string there\n",
    "data.fillna('',inplace=True)"
   ]
  },
  {
   "cell_type": "code",
   "execution_count": 8,
   "metadata": {},
   "outputs": [
    {
     "data": {
      "text/plain": [
       "0"
      ]
     },
     "execution_count": 8,
     "metadata": {},
     "output_type": "execute_result"
    }
   ],
   "source": [
    "len(data[data.isna().any(axis=1)])"
   ]
  },
  {
   "cell_type": "code",
   "execution_count": 9,
   "metadata": {},
   "outputs": [
    {
     "data": {
      "text/plain": [
       "(4803, 5)"
      ]
     },
     "execution_count": 9,
     "metadata": {},
     "output_type": "execute_result"
    }
   ],
   "source": [
    "data.shape"
   ]
  },
  {
   "cell_type": "code",
   "execution_count": 10,
   "metadata": {},
   "outputs": [],
   "source": [
    "# removing punctuatuion and empty spaces for better lookup\n",
    "replace_punc_dict = dict.fromkeys(string.punctuation)\n",
    "replace_punc_dict[' '] = ''\n",
    "table = str.maketrans(replace_punc_dict)\n",
    "for i in range(len(data['title'])):\n",
    "    data['title'][i] = data['title'][i].lower()\n",
    "    data['title'][i] = data['title'][i].translate(table)"
   ]
  },
  {
   "cell_type": "code",
   "execution_count": 11,
   "metadata": {},
   "outputs": [],
   "source": [
    "data[\"combined_features\"] = data['genres'] + \" \" + data['keywords'] + \" \" + data['cast'] + \" \" + data['director']"
   ]
  },
  {
   "cell_type": "code",
   "execution_count": 12,
   "metadata": {},
   "outputs": [
    {
     "data": {
      "text/plain": [
       "0    Action Adventure Fantasy Science Fiction cultu...\n",
       "1    Adventure Fantasy Action ocean drug abuse exot...\n",
       "2    Action Adventure Crime spy based on novel secr...\n",
       "3    Action Crime Drama Thriller dc comics crime fi...\n",
       "4    Action Adventure Science Fiction based on nove...\n",
       "Name: combined_features, dtype: object"
      ]
     },
     "execution_count": 12,
     "metadata": {},
     "output_type": "execute_result"
    }
   ],
   "source": [
    "data['combined_features'].head()"
   ]
  },
  {
   "cell_type": "markdown",
   "metadata": {},
   "source": [
    "## Vectorizing and creating cosine_similarity score matrix"
   ]
  },
  {
   "cell_type": "code",
   "execution_count": 13,
   "metadata": {},
   "outputs": [],
   "source": [
    "cv = CountVectorizer()  "
   ]
  },
  {
   "cell_type": "code",
   "execution_count": 14,
   "metadata": {},
   "outputs": [],
   "source": [
    "cv_mat = cv.fit_transform(data['combined_features']).toarray()"
   ]
  },
  {
   "cell_type": "code",
   "execution_count": 15,
   "metadata": {},
   "outputs": [
    {
     "data": {
      "text/plain": [
       "array([[0, 0, 0, ..., 0, 0, 0],\n",
       "       [0, 0, 0, ..., 0, 0, 0],\n",
       "       [0, 0, 0, ..., 0, 0, 0],\n",
       "       ...,\n",
       "       [0, 0, 0, ..., 0, 0, 0],\n",
       "       [0, 0, 0, ..., 0, 0, 0],\n",
       "       [0, 0, 0, ..., 0, 0, 0]], dtype=int64)"
      ]
     },
     "execution_count": 15,
     "metadata": {},
     "output_type": "execute_result"
    }
   ],
   "source": [
    "cv_mat"
   ]
  },
  {
   "cell_type": "code",
   "execution_count": 16,
   "metadata": {},
   "outputs": [],
   "source": [
    "similarity = cosine_similarity(cv_mat)"
   ]
  },
  {
   "cell_type": "markdown",
   "metadata": {},
   "source": [
    "## Preparing and Saving Requirements"
   ]
  },
  {
   "cell_type": "code",
   "execution_count": 17,
   "metadata": {},
   "outputs": [],
   "source": [
    "new_sim = list()\n",
    "for i in similarity:\n",
    "    temp = list(enumerate(i))\n",
    "    temp = sorted(temp, key=lambda x:x[1], reverse=True)\n",
    "    temp = temp[1:26]\n",
    "    new_sim.append(temp)"
   ]
  },
  {
   "cell_type": "code",
   "execution_count": 18,
   "metadata": {},
   "outputs": [
    {
     "name": "stdout",
     "output_type": "stream",
     "text": [
      "[(94, 0.42339019740572564), (2403, 0.3774256780481986), (3208, 0.3464101615137755), (47, 0.34426518632954817), (56, 0.33596842045264647), (3158, 0.33333333333333337), (2198, 0.31426968052735443), (2696, 0.30792014356780045), (4401, 0.28867513459481287), (1531, 0.2858966759567453), (278, 0.2810913475705226), (1053, 0.2809003238667948), (239, 0.2765204519281134), (838, 0.2749859704614352), (61, 0.27498597046143514), (232, 0.2694301256218254), (4332, 0.2694301256218254), (661, 0.264197974633739), (4593, 0.264197974633739), (3730, 0.2592592592592593), (1650, 0.2501595914621521), (158, 0.24618298195866545), (461, 0.24618298195866545), (1083, 0.24618298195866542), (322, 0.24077170617153845)]\n"
     ]
    }
   ],
   "source": [
    "print(new_sim[0])"
   ]
  },
  {
   "cell_type": "code",
   "execution_count": 19,
   "metadata": {},
   "outputs": [],
   "source": [
    "# converting values to string, to reduce dimensions\n",
    "save_sim = []\n",
    "idx = 0\n",
    "for i in new_sim:\n",
    "    save_sim.append([])\n",
    "    for j in i:\n",
    "        st = str(j[0]) + '|' + str(j[1])\n",
    "        save_sim[idx].append(st)\n",
    "    idx += 1"
   ]
  },
  {
   "cell_type": "code",
   "execution_count": 20,
   "metadata": {},
   "outputs": [
    {
     "name": "stdout",
     "output_type": "stream",
     "text": [
      "['94|0.42339019740572564', '2403|0.3774256780481986', '3208|0.3464101615137755', '47|0.34426518632954817', '56|0.33596842045264647', '3158|0.33333333333333337', '2198|0.31426968052735443', '2696|0.30792014356780045', '4401|0.28867513459481287', '1531|0.2858966759567453', '278|0.2810913475705226', '1053|0.2809003238667948', '239|0.2765204519281134', '838|0.2749859704614352', '61|0.27498597046143514', '232|0.2694301256218254', '4332|0.2694301256218254', '661|0.264197974633739', '4593|0.264197974633739', '3730|0.2592592592592593', '1650|0.2501595914621521', '158|0.24618298195866545', '461|0.24618298195866545', '1083|0.24618298195866542', '322|0.24077170617153845']\n"
     ]
    }
   ],
   "source": [
    "print(save_sim[0])"
   ]
  },
  {
   "cell_type": "code",
   "execution_count": 21,
   "metadata": {},
   "outputs": [
    {
     "name": "stdout",
     "output_type": "stream",
     "text": [
      "(4803, 25)\n"
     ]
    }
   ],
   "source": [
    "save_sim = np.array(save_sim)\n",
    "print(save_sim.shape)"
   ]
  },
  {
   "cell_type": "code",
   "execution_count": 22,
   "metadata": {},
   "outputs": [
    {
     "data": {
      "text/plain": [
       "0                                      Avatar\n",
       "1    Pirates of the Caribbean: At World's End\n",
       "2                                     Spectre\n",
       "3                       The Dark Knight Rises\n",
       "4                                 John Carter\n",
       "Name: title, dtype: object"
      ]
     },
     "execution_count": 22,
     "metadata": {},
     "output_type": "execute_result"
    }
   ],
   "source": [
    "df['title'].head()"
   ]
  },
  {
   "cell_type": "code",
   "execution_count": 23,
   "metadata": {},
   "outputs": [
    {
     "data": {
      "text/plain": [
       "0                              avatar\n",
       "1    piratesofthecaribbeanatworldsend\n",
       "2                             spectre\n",
       "3                  thedarkknightrises\n",
       "4                          johncarter\n",
       "Name: title, dtype: object"
      ]
     },
     "execution_count": 23,
     "metadata": {},
     "output_type": "execute_result"
    }
   ],
   "source": [
    "data['title'].head()"
   ]
  },
  {
   "cell_type": "code",
   "execution_count": 24,
   "metadata": {},
   "outputs": [],
   "source": [
    "save_sim_pd = pd.DataFrame(save_sim)\n",
    "lookup_pd = pd.DataFrame(data['title'])\n",
    "show_pd = pd.DataFrame(df['title'])"
   ]
  },
  {
   "cell_type": "code",
   "execution_count": 25,
   "metadata": {},
   "outputs": [
    {
     "data": {
      "text/html": [
       "<div>\n",
       "<style scoped>\n",
       "    .dataframe tbody tr th:only-of-type {\n",
       "        vertical-align: middle;\n",
       "    }\n",
       "\n",
       "    .dataframe tbody tr th {\n",
       "        vertical-align: top;\n",
       "    }\n",
       "\n",
       "    .dataframe thead th {\n",
       "        text-align: right;\n",
       "    }\n",
       "</style>\n",
       "<table border=\"1\" class=\"dataframe\">\n",
       "  <thead>\n",
       "    <tr style=\"text-align: right;\">\n",
       "      <th></th>\n",
       "      <th>0</th>\n",
       "      <th>1</th>\n",
       "      <th>2</th>\n",
       "      <th>3</th>\n",
       "      <th>4</th>\n",
       "      <th>5</th>\n",
       "      <th>6</th>\n",
       "      <th>7</th>\n",
       "      <th>8</th>\n",
       "      <th>9</th>\n",
       "      <th>...</th>\n",
       "      <th>15</th>\n",
       "      <th>16</th>\n",
       "      <th>17</th>\n",
       "      <th>18</th>\n",
       "      <th>19</th>\n",
       "      <th>20</th>\n",
       "      <th>21</th>\n",
       "      <th>22</th>\n",
       "      <th>23</th>\n",
       "      <th>24</th>\n",
       "    </tr>\n",
       "  </thead>\n",
       "  <tbody>\n",
       "    <tr>\n",
       "      <th>0</th>\n",
       "      <td>94|0.42339019740572564</td>\n",
       "      <td>2403|0.3774256780481986</td>\n",
       "      <td>3208|0.3464101615137755</td>\n",
       "      <td>47|0.34426518632954817</td>\n",
       "      <td>56|0.33596842045264647</td>\n",
       "      <td>3158|0.33333333333333337</td>\n",
       "      <td>2198|0.31426968052735443</td>\n",
       "      <td>2696|0.30792014356780045</td>\n",
       "      <td>4401|0.28867513459481287</td>\n",
       "      <td>1531|0.2858966759567453</td>\n",
       "      <td>...</td>\n",
       "      <td>232|0.2694301256218254</td>\n",
       "      <td>4332|0.2694301256218254</td>\n",
       "      <td>661|0.264197974633739</td>\n",
       "      <td>4593|0.264197974633739</td>\n",
       "      <td>3730|0.2592592592592593</td>\n",
       "      <td>1650|0.2501595914621521</td>\n",
       "      <td>158|0.24618298195866545</td>\n",
       "      <td>461|0.24618298195866545</td>\n",
       "      <td>1083|0.24618298195866542</td>\n",
       "      <td>322|0.24077170617153845</td>\n",
       "    </tr>\n",
       "    <tr>\n",
       "      <th>1</th>\n",
       "      <td>199|0.6207522318391884</td>\n",
       "      <td>12|0.6091095901015049</td>\n",
       "      <td>5|0.2556038601690775</td>\n",
       "      <td>115|0.2556038601690775</td>\n",
       "      <td>30|0.2506402059138015</td>\n",
       "      <td>536|0.23732222626728364</td>\n",
       "      <td>1017|0.23333333333333328</td>\n",
       "      <td>2029|0.2284160962880643</td>\n",
       "      <td>129|0.22841609628806428</td>\n",
       "      <td>1652|0.223606797749979</td>\n",
       "      <td>...</td>\n",
       "      <td>17|0.19462473604038072</td>\n",
       "      <td>178|0.19462473604038072</td>\n",
       "      <td>262|0.19462473604038072</td>\n",
       "      <td>894|0.19034674690672024</td>\n",
       "      <td>1095|0.19034674690672024</td>\n",
       "      <td>448|0.1884336657203579</td>\n",
       "      <td>3374|0.1863389981249825</td>\n",
       "      <td>329|0.18633899812498247</td>\n",
       "      <td>330|0.18633899812498247</td>\n",
       "      <td>840|0.18633899812498247</td>\n",
       "    </tr>\n",
       "    <tr>\n",
       "      <th>2</th>\n",
       "      <td>29|0.48900964692182586</td>\n",
       "      <td>11|0.3336230624913197</td>\n",
       "      <td>354|0.2553769592276246</td>\n",
       "      <td>183|0.25021729686848976</td>\n",
       "      <td>1100|0.25021729686848976</td>\n",
       "      <td>1137|0.25021729686848976</td>\n",
       "      <td>1999|0.25021729686848976</td>\n",
       "      <td>2156|0.25021729686848976</td>\n",
       "      <td>3336|0.25021729686848976</td>\n",
       "      <td>3373|0.24573659359149527</td>\n",
       "      <td>...</td>\n",
       "      <td>147|0.2323209277987099</td>\n",
       "      <td>219|0.22750787759664506</td>\n",
       "      <td>1958|0.22750787759664506</td>\n",
       "      <td>444|0.22470176588194152</td>\n",
       "      <td>1192|0.22470176588194152</td>\n",
       "      <td>2167|0.2222771122371935</td>\n",
       "      <td>1024|0.22116293423234573</td>\n",
       "      <td>206|0.2173913043478261</td>\n",
       "      <td>1013|0.2173913043478261</td>\n",
       "      <td>3986|0.2173913043478261</td>\n",
       "    </tr>\n",
       "    <tr>\n",
       "      <th>3</th>\n",
       "      <td>119|0.7307692307692306</td>\n",
       "      <td>65|0.6923076923076922</td>\n",
       "      <td>4638|0.45291081365783836</td>\n",
       "      <td>2793|0.39467610868816316</td>\n",
       "      <td>1196|0.37630890450319093</td>\n",
       "      <td>428|0.3602883460614461</td>\n",
       "      <td>1359|0.3530090432487313</td>\n",
       "      <td>210|0.3396831102433788</td>\n",
       "      <td>1720|0.3335621924974955</td>\n",
       "      <td>2371|0.3335621924974955</td>\n",
       "      <td>...</td>\n",
       "      <td>4099|0.29268470350248177</td>\n",
       "      <td>2790|0.29134281629169184</td>\n",
       "      <td>1013|0.28625128703833574</td>\n",
       "      <td>1792|0.28625128703833574</td>\n",
       "      <td>2398|0.28625128703833574</td>\n",
       "      <td>1503|0.2853908964926965</td>\n",
       "      <td>3293|0.28022426915890253</td>\n",
       "      <td>1986|0.27735009811261463</td>\n",
       "      <td>4664|0.27735009811261463</td>\n",
       "      <td>1234|0.27456258919345766</td>\n",
       "    </tr>\n",
       "    <tr>\n",
       "      <th>4</th>\n",
       "      <td>972|0.30792014356780045</td>\n",
       "      <td>2904|0.30792014356780045</td>\n",
       "      <td>3494|0.30792014356780045</td>\n",
       "      <td>4401|0.30000000000000004</td>\n",
       "      <td>111|0.2919201796799047</td>\n",
       "      <td>270|0.28577380332470415</td>\n",
       "      <td>183|0.28</td>\n",
       "      <td>260|0.28</td>\n",
       "      <td>400|0.28</td>\n",
       "      <td>2444|0.27456258919345766</td>\n",
       "      <td>...</td>\n",
       "      <td>122|0.25021729686848976</td>\n",
       "      <td>2630|0.25021729686848976</td>\n",
       "      <td>27|0.24494897427831788</td>\n",
       "      <td>249|0.24494897427831788</td>\n",
       "      <td>256|0.24494897427831788</td>\n",
       "      <td>1068|0.24494897427831788</td>\n",
       "      <td>2121|0.24494897427831788</td>\n",
       "      <td>94|0.24000000000000005</td>\n",
       "      <td>266|0.24000000000000005</td>\n",
       "      <td>419|0.24000000000000005</td>\n",
       "    </tr>\n",
       "  </tbody>\n",
       "</table>\n",
       "<p>5 rows × 25 columns</p>\n",
       "</div>"
      ],
      "text/plain": [
       "                        0                         1   \\\n",
       "0   94|0.42339019740572564   2403|0.3774256780481986   \n",
       "1   199|0.6207522318391884     12|0.6091095901015049   \n",
       "2   29|0.48900964692182586     11|0.3336230624913197   \n",
       "3   119|0.7307692307692306     65|0.6923076923076922   \n",
       "4  972|0.30792014356780045  2904|0.30792014356780045   \n",
       "\n",
       "                         2                         3   \\\n",
       "0   3208|0.3464101615137755    47|0.34426518632954817   \n",
       "1      5|0.2556038601690775    115|0.2556038601690775   \n",
       "2    354|0.2553769592276246   183|0.25021729686848976   \n",
       "3  4638|0.45291081365783836  2793|0.39467610868816316   \n",
       "4  3494|0.30792014356780045  4401|0.30000000000000004   \n",
       "\n",
       "                         4                         5   \\\n",
       "0    56|0.33596842045264647  3158|0.33333333333333337   \n",
       "1     30|0.2506402059138015   536|0.23732222626728364   \n",
       "2  1100|0.25021729686848976  1137|0.25021729686848976   \n",
       "3  1196|0.37630890450319093    428|0.3602883460614461   \n",
       "4    111|0.2919201796799047   270|0.28577380332470415   \n",
       "\n",
       "                         6                         7   \\\n",
       "0  2198|0.31426968052735443  2696|0.30792014356780045   \n",
       "1  1017|0.23333333333333328   2029|0.2284160962880643   \n",
       "2  1999|0.25021729686848976  2156|0.25021729686848976   \n",
       "3   1359|0.3530090432487313    210|0.3396831102433788   \n",
       "4                  183|0.28                  260|0.28   \n",
       "\n",
       "                         8                         9   ...  \\\n",
       "0  4401|0.28867513459481287   1531|0.2858966759567453  ...   \n",
       "1   129|0.22841609628806428    1652|0.223606797749979  ...   \n",
       "2  3336|0.25021729686848976  3373|0.24573659359149527  ...   \n",
       "3   1720|0.3335621924974955   2371|0.3335621924974955  ...   \n",
       "4                  400|0.28  2444|0.27456258919345766  ...   \n",
       "\n",
       "                         15                        16  \\\n",
       "0    232|0.2694301256218254   4332|0.2694301256218254   \n",
       "1    17|0.19462473604038072   178|0.19462473604038072   \n",
       "2    147|0.2323209277987099   219|0.22750787759664506   \n",
       "3  4099|0.29268470350248177  2790|0.29134281629169184   \n",
       "4   122|0.25021729686848976  2630|0.25021729686848976   \n",
       "\n",
       "                         17                        18  \\\n",
       "0     661|0.264197974633739    4593|0.264197974633739   \n",
       "1   262|0.19462473604038072   894|0.19034674690672024   \n",
       "2  1958|0.22750787759664506   444|0.22470176588194152   \n",
       "3  1013|0.28625128703833574  1792|0.28625128703833574   \n",
       "4    27|0.24494897427831788   249|0.24494897427831788   \n",
       "\n",
       "                         19                        20  \\\n",
       "0   3730|0.2592592592592593   1650|0.2501595914621521   \n",
       "1  1095|0.19034674690672024    448|0.1884336657203579   \n",
       "2  1192|0.22470176588194152   2167|0.2222771122371935   \n",
       "3  2398|0.28625128703833574   1503|0.2853908964926965   \n",
       "4   256|0.24494897427831788  1068|0.24494897427831788   \n",
       "\n",
       "                         21                        22  \\\n",
       "0   158|0.24618298195866545   461|0.24618298195866545   \n",
       "1   3374|0.1863389981249825   329|0.18633899812498247   \n",
       "2  1024|0.22116293423234573    206|0.2173913043478261   \n",
       "3  3293|0.28022426915890253  1986|0.27735009811261463   \n",
       "4  2121|0.24494897427831788    94|0.24000000000000005   \n",
       "\n",
       "                         23                        24  \n",
       "0  1083|0.24618298195866542   322|0.24077170617153845  \n",
       "1   330|0.18633899812498247   840|0.18633899812498247  \n",
       "2   1013|0.2173913043478261   3986|0.2173913043478261  \n",
       "3  4664|0.27735009811261463  1234|0.27456258919345766  \n",
       "4   266|0.24000000000000005   419|0.24000000000000005  \n",
       "\n",
       "[5 rows x 25 columns]"
      ]
     },
     "execution_count": 25,
     "metadata": {},
     "output_type": "execute_result"
    }
   ],
   "source": [
    "save_sim_pd.head()"
   ]
  },
  {
   "cell_type": "code",
   "execution_count": 26,
   "metadata": {},
   "outputs": [
    {
     "data": {
      "text/html": [
       "<div>\n",
       "<style scoped>\n",
       "    .dataframe tbody tr th:only-of-type {\n",
       "        vertical-align: middle;\n",
       "    }\n",
       "\n",
       "    .dataframe tbody tr th {\n",
       "        vertical-align: top;\n",
       "    }\n",
       "\n",
       "    .dataframe thead th {\n",
       "        text-align: right;\n",
       "    }\n",
       "</style>\n",
       "<table border=\"1\" class=\"dataframe\">\n",
       "  <thead>\n",
       "    <tr style=\"text-align: right;\">\n",
       "      <th></th>\n",
       "      <th>title</th>\n",
       "    </tr>\n",
       "  </thead>\n",
       "  <tbody>\n",
       "    <tr>\n",
       "      <th>0</th>\n",
       "      <td>avatar</td>\n",
       "    </tr>\n",
       "    <tr>\n",
       "      <th>1</th>\n",
       "      <td>piratesofthecaribbeanatworldsend</td>\n",
       "    </tr>\n",
       "    <tr>\n",
       "      <th>2</th>\n",
       "      <td>spectre</td>\n",
       "    </tr>\n",
       "    <tr>\n",
       "      <th>3</th>\n",
       "      <td>thedarkknightrises</td>\n",
       "    </tr>\n",
       "    <tr>\n",
       "      <th>4</th>\n",
       "      <td>johncarter</td>\n",
       "    </tr>\n",
       "  </tbody>\n",
       "</table>\n",
       "</div>"
      ],
      "text/plain": [
       "                              title\n",
       "0                            avatar\n",
       "1  piratesofthecaribbeanatworldsend\n",
       "2                           spectre\n",
       "3                thedarkknightrises\n",
       "4                        johncarter"
      ]
     },
     "execution_count": 26,
     "metadata": {},
     "output_type": "execute_result"
    }
   ],
   "source": [
    "lookup_pd.head()"
   ]
  },
  {
   "cell_type": "code",
   "execution_count": 27,
   "metadata": {},
   "outputs": [
    {
     "data": {
      "text/html": [
       "<div>\n",
       "<style scoped>\n",
       "    .dataframe tbody tr th:only-of-type {\n",
       "        vertical-align: middle;\n",
       "    }\n",
       "\n",
       "    .dataframe tbody tr th {\n",
       "        vertical-align: top;\n",
       "    }\n",
       "\n",
       "    .dataframe thead th {\n",
       "        text-align: right;\n",
       "    }\n",
       "</style>\n",
       "<table border=\"1\" class=\"dataframe\">\n",
       "  <thead>\n",
       "    <tr style=\"text-align: right;\">\n",
       "      <th></th>\n",
       "      <th>title</th>\n",
       "    </tr>\n",
       "  </thead>\n",
       "  <tbody>\n",
       "    <tr>\n",
       "      <th>0</th>\n",
       "      <td>Avatar</td>\n",
       "    </tr>\n",
       "    <tr>\n",
       "      <th>1</th>\n",
       "      <td>Pirates of the Caribbean: At World's End</td>\n",
       "    </tr>\n",
       "    <tr>\n",
       "      <th>2</th>\n",
       "      <td>Spectre</td>\n",
       "    </tr>\n",
       "    <tr>\n",
       "      <th>3</th>\n",
       "      <td>The Dark Knight Rises</td>\n",
       "    </tr>\n",
       "    <tr>\n",
       "      <th>4</th>\n",
       "      <td>John Carter</td>\n",
       "    </tr>\n",
       "  </tbody>\n",
       "</table>\n",
       "</div>"
      ],
      "text/plain": [
       "                                      title\n",
       "0                                    Avatar\n",
       "1  Pirates of the Caribbean: At World's End\n",
       "2                                   Spectre\n",
       "3                     The Dark Knight Rises\n",
       "4                               John Carter"
      ]
     },
     "execution_count": 27,
     "metadata": {},
     "output_type": "execute_result"
    }
   ],
   "source": [
    "show_pd.head()"
   ]
  },
  {
   "cell_type": "code",
   "execution_count": 28,
   "metadata": {},
   "outputs": [],
   "source": [
    "save_sim_pd.to_csv('model/res.csv', index=None, header=None)\n",
    "lookup_pd.to_csv('model/lookup.csv', index=None, header=None)\n",
    "show_pd.to_csv('model/show.csv', index=None, header=None)"
   ]
  },
  {
   "cell_type": "markdown",
   "metadata": {},
   "source": [
    "## Execution and Results"
   ]
  },
  {
   "cell_type": "code",
   "execution_count": 29,
   "metadata": {},
   "outputs": [],
   "source": [
    "#prompt user for input movie\n",
    "movie = \"avatar\"\n",
    "i = data[data['title'] == movie].index\n",
    "i = i[0]"
   ]
  },
  {
   "cell_type": "code",
   "execution_count": 30,
   "metadata": {},
   "outputs": [],
   "source": [
    "indexed_sim = list(enumerate(similarity[i]))\n",
    "# print(indexed_sim)"
   ]
  },
  {
   "cell_type": "code",
   "execution_count": 31,
   "metadata": {},
   "outputs": [],
   "source": [
    "sorted_sim = sorted(indexed_sim, key=lambda x:x[1], reverse=True)"
   ]
  },
  {
   "cell_type": "code",
   "execution_count": 32,
   "metadata": {},
   "outputs": [],
   "source": [
    "req_sim = sorted_sim[1:21]"
   ]
  },
  {
   "cell_type": "code",
   "execution_count": 33,
   "metadata": {},
   "outputs": [],
   "source": [
    "# for i,_ in req_sim:\n",
    "#     if df['vote_average'][i]>6.5 and df['vote_count'][i]>3000:\n",
    "#         print(data['title'][i])"
   ]
  },
  {
   "cell_type": "code",
   "execution_count": 35,
   "metadata": {},
   "outputs": [
    {
     "name": "stdout",
     "output_type": "stream",
     "text": [
      "Guardians of the Galaxy\n",
      "Aliens\n",
      "Star Wars: Clone Wars: Volume 1\n",
      "Star Trek Into Darkness\n",
      "Star Trek Beyond\n",
      "Alien\n",
      "Lockout\n",
      "Jason X\n",
      "The Helix... Loaded\n",
      "Moonraker\n",
      "Planet of the Apes\n",
      "Galaxy Quest\n",
      "Gravity\n",
      "Alien³\n",
      "Jupiter Ascending\n",
      "The Wolverine\n",
      "Silent Running\n",
      "Zathura: A Space Adventure\n",
      "Trekkies\n",
      "Cargo\n"
     ]
    }
   ],
   "source": [
    "for i,_ in req_sim:\n",
    "    print(df['title'][i])"
   ]
  }
 ],
 "metadata": {
  "interpreter": {
   "hash": "b3ba2566441a7c06988d0923437866b63cedc61552a5af99d1f4fb67d367b25f"
  },
  "kernelspec": {
   "display_name": "Python 3",
   "language": "python",
   "name": "python3"
  },
  "language_info": {
   "codemirror_mode": {
    "name": "ipython",
    "version": 3
   },
   "file_extension": ".py",
   "mimetype": "text/x-python",
   "name": "python",
   "nbconvert_exporter": "python",
   "pygments_lexer": "ipython3",
   "version": "3.8.10"
  }
 },
 "nbformat": 4,
 "nbformat_minor": 4
}
